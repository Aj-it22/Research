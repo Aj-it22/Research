{
 "cells": [
  {
   "cell_type": "code",
   "execution_count": 2,
   "id": "3e84dabf-79b2-4f81-b5b8-45aafee60a48",
   "metadata": {
    "tags": []
   },
   "outputs": [
    {
     "name": "stdout",
     "output_type": "stream",
     "text": [
      "Collecting split_folders\n",
      "  Obtaining dependency information for split_folders from https://files.pythonhosted.org/packages/b6/d5/307d63c03356bad6e141d8718d3f4116f51bd9c4b09e2614ffcee1f3c6fd/split_folders-0.5.1-py3-none-any.whl.metadata\n",
      "  Downloading split_folders-0.5.1-py3-none-any.whl.metadata (6.2 kB)\n",
      "Downloading split_folders-0.5.1-py3-none-any.whl (8.4 kB)\n",
      "Installing collected packages: split_folders\n",
      "Successfully installed split_folders-0.5.1\n"
     ]
    }
   ],
   "source": [
    "!pip install split_folders\n"
   ]
  },
  {
   "cell_type": "code",
   "execution_count": 3,
   "id": "ef721ebe-10c0-49d8-8fb0-5db39333a810",
   "metadata": {
    "tags": []
   },
   "outputs": [],
   "source": [
    "import splitfolders"
   ]
  },
  {
   "cell_type": "code",
   "execution_count": 4,
   "id": "a84fcf31-6a7b-452d-acca-53faf3193901",
   "metadata": {
    "tags": []
   },
   "outputs": [
    {
     "ename": "SyntaxError",
     "evalue": "(unicode error) 'unicodeescape' codec can't decode bytes in position 2-3: truncated \\UXXXXXXXX escape (3229852599.py, line 1)",
     "output_type": "error",
     "traceback": [
      "\u001b[1;36m  Cell \u001b[1;32mIn[4], line 1\u001b[1;36m\u001b[0m\n\u001b[1;33m    input_folder = \"C:\\Users\\ajvar\\Research-Final\\other set\\malicious\"\u001b[0m\n\u001b[1;37m                                                                      ^\u001b[0m\n\u001b[1;31mSyntaxError\u001b[0m\u001b[1;31m:\u001b[0m (unicode error) 'unicodeescape' codec can't decode bytes in position 2-3: truncated \\UXXXXXXXX escape\n"
     ]
    }
   ],
   "source": [
    "input_folder = \"C:\\Users\\ajvar\\Research-Final\\other set\\malicious\"\n",
    "output = 'D:\\Research-Final\\Otherdata\\output1'\n",
    "splitfolders.ratio(input_folder, output, seed=42, ratio=(.6, .4)) "
   ]
  },
  {
   "cell_type": "code",
   "execution_count": null,
   "id": "2f4f5723-c456-4b33-b61f-48b27b84ca8d",
   "metadata": {},
   "outputs": [],
   "source": []
  }
 ],
 "metadata": {
  "kernelspec": {
   "display_name": "Python 3 (ipykernel)",
   "language": "python",
   "name": "python3"
  },
  "language_info": {
   "codemirror_mode": {
    "name": "ipython",
    "version": 3
   },
   "file_extension": ".py",
   "mimetype": "text/x-python",
   "name": "python",
   "nbconvert_exporter": "python",
   "pygments_lexer": "ipython3",
   "version": "3.11.5"
  }
 },
 "nbformat": 4,
 "nbformat_minor": 5
}
