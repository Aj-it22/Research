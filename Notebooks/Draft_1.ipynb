{
  "cells": [
    {
      "cell_type": "code",
      "execution_count": 1,
      "metadata": {
        "colab": {
          "base_uri": "https://localhost:8080/"
        },
        "id": "9VVJVjMD-10G",
        "outputId": "7e460475-7ce7-4adf-a4fa-6498cdb7ab9e"
      },
      "outputs": [
        {
          "name": "stdout",
          "output_type": "stream",
          "text": [
            "^C\n",
            "Note: you may need to restart the kernel to use updated packages.\n"
          ]
        }
      ],
      "source": [
        "pip install tensorflow"
      ]
    },
    {
      "cell_type": "code",
      "execution_count": 4,
      "metadata": {
        "colab": {
          "base_uri": "https://localhost:8080/"
        },
        "id": "PrtkUorN_xcz",
        "outputId": "de8d4738-9a08-466b-c401-4306a743fd8f"
      },
      "outputs": [],
      "source": [
        "import numpy as np\n",
        "import splitfolders\n"
      ]
    },
    {
      "cell_type": "code",
      "execution_count": 13,
      "metadata": {
        "colab": {
          "base_uri": "https://localhost:8080/",
          "height": 425
        },
        "id": "oCQ6abmMVlOb",
        "outputId": "fac4e7c2-a8ba-4b0c-fecc-ec0b74d96cd7"
      },
      "outputs": [],
      "source": [
        "input_folder = \"malandben\\data\\dmalicious\"\n",
        "output_folder = \"otherset\\dmalicious_split\"\n",
        "splitfolders.ratio(input_folder, output_folder, seed=42, ratio=(.6, .2, .2))"
      ]
    },
    {
      "cell_type": "code",
      "execution_count": null,
      "metadata": {},
      "outputs": [],
      "source": []
    }
  ],
  "metadata": {
    "colab": {
      "provenance": []
    },
    "kernelspec": {
      "display_name": "Python 3",
      "name": "python3"
    },
    "language_info": {
      "codemirror_mode": {
        "name": "ipython",
        "version": 3
      },
      "file_extension": ".py",
      "mimetype": "text/x-python",
      "name": "python",
      "nbconvert_exporter": "python",
      "pygments_lexer": "ipython3",
      "version": "3.11.8"
    }
  },
  "nbformat": 4,
  "nbformat_minor": 0
}
